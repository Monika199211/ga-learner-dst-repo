{
 "cells": [
  {
   "cell_type": "code",
   "execution_count": 346,
   "metadata": {},
   "outputs": [],
   "source": [
    "# import the modules\n",
    "import pandas as pd\n",
    "import numpy as np\n",
    "import matplotlib.pyplot as plt\n",
    "import seaborn as sns\n",
    "from sklearn.metrics import confusion_matrix\n",
    "from sklearn.model_selection import train_test_split\n",
    "from sklearn.preprocessing import LabelEncoder\n",
    "import warnings\n",
    "warnings. filterwarnings(\"ignore\")\n",
    "from sklearn.tree import DecisionTreeClassifier\n",
    "from sklearn.model_selection import GridSearchCV\n",
    "from sklearn.tree import export_graphviz\n",
    "from sklearn import tree\n",
    "from IPython.display import Image  \n",
    "import pydotplus\n"
   ]
  },
  {
   "cell_type": "markdown",
   "metadata": {},
   "source": [
    "### Load the dataset\n",
    "\n",
    "- Load the train data and using all your knowledge try to explore the different statistical properties of the dataset."
   ]
  },
  {
   "cell_type": "code",
   "execution_count": 347,
   "metadata": {},
   "outputs": [],
   "source": [
    "# Code starts here\n",
    "train=pd.read_csv(\"train.csv\")\n",
    "# Code ends here"
   ]
  },
  {
   "cell_type": "code",
   "execution_count": 348,
   "metadata": {},
   "outputs": [
    {
     "data": {
      "text/html": [
       "<div>\n",
       "<style scoped>\n",
       "    .dataframe tbody tr th:only-of-type {\n",
       "        vertical-align: middle;\n",
       "    }\n",
       "\n",
       "    .dataframe tbody tr th {\n",
       "        vertical-align: top;\n",
       "    }\n",
       "\n",
       "    .dataframe thead th {\n",
       "        text-align: right;\n",
       "    }\n",
       "</style>\n",
       "<table border=\"1\" class=\"dataframe\">\n",
       "  <thead>\n",
       "    <tr style=\"text-align: right;\">\n",
       "      <th></th>\n",
       "      <th>Id</th>\n",
       "      <th>customer.id</th>\n",
       "      <th>credit.policy</th>\n",
       "      <th>purpose</th>\n",
       "      <th>int.rate</th>\n",
       "      <th>installment</th>\n",
       "      <th>log.annual.inc</th>\n",
       "      <th>dti</th>\n",
       "      <th>fico</th>\n",
       "      <th>days.with.cr.line</th>\n",
       "      <th>revol.bal</th>\n",
       "      <th>revol.util</th>\n",
       "      <th>pub.rec</th>\n",
       "      <th>inq.last.6mths</th>\n",
       "      <th>delinq.2yrs</th>\n",
       "      <th>paid.back.loan</th>\n",
       "    </tr>\n",
       "  </thead>\n",
       "  <tbody>\n",
       "    <tr>\n",
       "      <th>0</th>\n",
       "      <td>6269</td>\n",
       "      <td>LA006270</td>\n",
       "      <td>Yes</td>\n",
       "      <td>debt_consolidation</td>\n",
       "      <td>12.53%</td>\n",
       "      <td>689.41</td>\n",
       "      <td>11.513725</td>\n",
       "      <td>14.45</td>\n",
       "      <td>722</td>\n",
       "      <td>4291.000000</td>\n",
       "      <td>13171</td>\n",
       "      <td>51.8</td>\n",
       "      <td>0</td>\n",
       "      <td>Less than 5</td>\n",
       "      <td>No</td>\n",
       "      <td>Yes</td>\n",
       "    </tr>\n",
       "    <tr>\n",
       "      <th>1</th>\n",
       "      <td>1460</td>\n",
       "      <td>LA001461</td>\n",
       "      <td>Yes</td>\n",
       "      <td>credit_card</td>\n",
       "      <td>10.20%</td>\n",
       "      <td>485.42</td>\n",
       "      <td>10.315597</td>\n",
       "      <td>12.87</td>\n",
       "      <td>752</td>\n",
       "      <td>5789.958333</td>\n",
       "      <td>14857</td>\n",
       "      <td>31.3</td>\n",
       "      <td>0</td>\n",
       "      <td>Less than 5</td>\n",
       "      <td>Yes</td>\n",
       "      <td>Yes</td>\n",
       "    </tr>\n",
       "    <tr>\n",
       "      <th>2</th>\n",
       "      <td>5539</td>\n",
       "      <td>LA005540</td>\n",
       "      <td>Yes</td>\n",
       "      <td>debt_consolidation</td>\n",
       "      <td>12.87%</td>\n",
       "      <td>121.08</td>\n",
       "      <td>11.238436</td>\n",
       "      <td>1.58</td>\n",
       "      <td>692</td>\n",
       "      <td>3391.000000</td>\n",
       "      <td>12135</td>\n",
       "      <td>85.5</td>\n",
       "      <td>0</td>\n",
       "      <td>Less than 5</td>\n",
       "      <td>No</td>\n",
       "      <td>Yes</td>\n",
       "    </tr>\n",
       "    <tr>\n",
       "      <th>3</th>\n",
       "      <td>9020</td>\n",
       "      <td>LA009021</td>\n",
       "      <td>No</td>\n",
       "      <td>all_other</td>\n",
       "      <td>15.37%</td>\n",
       "      <td>348.47</td>\n",
       "      <td>11.142007</td>\n",
       "      <td>11.01</td>\n",
       "      <td>687</td>\n",
       "      <td>5370.000000</td>\n",
       "      <td>10631</td>\n",
       "      <td>35.3</td>\n",
       "      <td>0</td>\n",
       "      <td>Less than 10</td>\n",
       "      <td>No</td>\n",
       "      <td>Yes</td>\n",
       "    </tr>\n",
       "    <tr>\n",
       "      <th>4</th>\n",
       "      <td>4365</td>\n",
       "      <td>LA004366</td>\n",
       "      <td>Yes</td>\n",
       "      <td>debt_consolidation</td>\n",
       "      <td>14.61%</td>\n",
       "      <td>344.76</td>\n",
       "      <td>10.308953</td>\n",
       "      <td>11.36</td>\n",
       "      <td>672</td>\n",
       "      <td>2429.958333</td>\n",
       "      <td>10544</td>\n",
       "      <td>57.0</td>\n",
       "      <td>0</td>\n",
       "      <td>Less than 5</td>\n",
       "      <td>Yes</td>\n",
       "      <td>Yes</td>\n",
       "    </tr>\n",
       "  </tbody>\n",
       "</table>\n",
       "</div>"
      ],
      "text/plain": [
       "     Id customer.id credit.policy             purpose int.rate  installment  \\\n",
       "0  6269    LA006270           Yes  debt_consolidation   12.53%       689.41   \n",
       "1  1460    LA001461           Yes         credit_card   10.20%       485.42   \n",
       "2  5539    LA005540           Yes  debt_consolidation   12.87%       121.08   \n",
       "3  9020    LA009021            No           all_other   15.37%       348.47   \n",
       "4  4365    LA004366           Yes  debt_consolidation   14.61%       344.76   \n",
       "\n",
       "   log.annual.inc    dti  fico  days.with.cr.line  revol.bal  revol.util  \\\n",
       "0       11.513725  14.45   722        4291.000000      13171        51.8   \n",
       "1       10.315597  12.87   752        5789.958333      14857        31.3   \n",
       "2       11.238436   1.58   692        3391.000000      12135        85.5   \n",
       "3       11.142007  11.01   687        5370.000000      10631        35.3   \n",
       "4       10.308953  11.36   672        2429.958333      10544        57.0   \n",
       "\n",
       "   pub.rec inq.last.6mths delinq.2yrs paid.back.loan  \n",
       "0        0    Less than 5          No            Yes  \n",
       "1        0    Less than 5         Yes            Yes  \n",
       "2        0    Less than 5          No            Yes  \n",
       "3        0   Less than 10          No            Yes  \n",
       "4        0    Less than 5         Yes            Yes  "
      ]
     },
     "execution_count": 348,
     "metadata": {},
     "output_type": "execute_result"
    }
   ],
   "source": [
    "train.head()"
   ]
  },
  {
   "cell_type": "code",
   "execution_count": 349,
   "metadata": {},
   "outputs": [],
   "source": [
    "train.drop(['Id','customer.id','inq.last.6mths','pub.rec'],axis=1,inplace=True)"
   ]
  },
  {
   "cell_type": "code",
   "execution_count": 350,
   "metadata": {},
   "outputs": [
    {
     "data": {
      "text/html": [
       "<div>\n",
       "<style scoped>\n",
       "    .dataframe tbody tr th:only-of-type {\n",
       "        vertical-align: middle;\n",
       "    }\n",
       "\n",
       "    .dataframe tbody tr th {\n",
       "        vertical-align: top;\n",
       "    }\n",
       "\n",
       "    .dataframe thead th {\n",
       "        text-align: right;\n",
       "    }\n",
       "</style>\n",
       "<table border=\"1\" class=\"dataframe\">\n",
       "  <thead>\n",
       "    <tr style=\"text-align: right;\">\n",
       "      <th></th>\n",
       "      <th>credit.policy</th>\n",
       "      <th>purpose</th>\n",
       "      <th>int.rate</th>\n",
       "      <th>installment</th>\n",
       "      <th>log.annual.inc</th>\n",
       "      <th>dti</th>\n",
       "      <th>fico</th>\n",
       "      <th>days.with.cr.line</th>\n",
       "      <th>revol.bal</th>\n",
       "      <th>revol.util</th>\n",
       "      <th>delinq.2yrs</th>\n",
       "      <th>paid.back.loan</th>\n",
       "    </tr>\n",
       "  </thead>\n",
       "  <tbody>\n",
       "    <tr>\n",
       "      <th>0</th>\n",
       "      <td>Yes</td>\n",
       "      <td>debt_consolidation</td>\n",
       "      <td>12.53%</td>\n",
       "      <td>689.41</td>\n",
       "      <td>11.513725</td>\n",
       "      <td>14.45</td>\n",
       "      <td>722</td>\n",
       "      <td>4291.000000</td>\n",
       "      <td>13171</td>\n",
       "      <td>51.8</td>\n",
       "      <td>No</td>\n",
       "      <td>Yes</td>\n",
       "    </tr>\n",
       "    <tr>\n",
       "      <th>1</th>\n",
       "      <td>Yes</td>\n",
       "      <td>credit_card</td>\n",
       "      <td>10.20%</td>\n",
       "      <td>485.42</td>\n",
       "      <td>10.315597</td>\n",
       "      <td>12.87</td>\n",
       "      <td>752</td>\n",
       "      <td>5789.958333</td>\n",
       "      <td>14857</td>\n",
       "      <td>31.3</td>\n",
       "      <td>Yes</td>\n",
       "      <td>Yes</td>\n",
       "    </tr>\n",
       "    <tr>\n",
       "      <th>2</th>\n",
       "      <td>Yes</td>\n",
       "      <td>debt_consolidation</td>\n",
       "      <td>12.87%</td>\n",
       "      <td>121.08</td>\n",
       "      <td>11.238436</td>\n",
       "      <td>1.58</td>\n",
       "      <td>692</td>\n",
       "      <td>3391.000000</td>\n",
       "      <td>12135</td>\n",
       "      <td>85.5</td>\n",
       "      <td>No</td>\n",
       "      <td>Yes</td>\n",
       "    </tr>\n",
       "    <tr>\n",
       "      <th>3</th>\n",
       "      <td>No</td>\n",
       "      <td>all_other</td>\n",
       "      <td>15.37%</td>\n",
       "      <td>348.47</td>\n",
       "      <td>11.142007</td>\n",
       "      <td>11.01</td>\n",
       "      <td>687</td>\n",
       "      <td>5370.000000</td>\n",
       "      <td>10631</td>\n",
       "      <td>35.3</td>\n",
       "      <td>No</td>\n",
       "      <td>Yes</td>\n",
       "    </tr>\n",
       "    <tr>\n",
       "      <th>4</th>\n",
       "      <td>Yes</td>\n",
       "      <td>debt_consolidation</td>\n",
       "      <td>14.61%</td>\n",
       "      <td>344.76</td>\n",
       "      <td>10.308953</td>\n",
       "      <td>11.36</td>\n",
       "      <td>672</td>\n",
       "      <td>2429.958333</td>\n",
       "      <td>10544</td>\n",
       "      <td>57.0</td>\n",
       "      <td>Yes</td>\n",
       "      <td>Yes</td>\n",
       "    </tr>\n",
       "  </tbody>\n",
       "</table>\n",
       "</div>"
      ],
      "text/plain": [
       "  credit.policy             purpose int.rate  installment  log.annual.inc  \\\n",
       "0           Yes  debt_consolidation   12.53%       689.41       11.513725   \n",
       "1           Yes         credit_card   10.20%       485.42       10.315597   \n",
       "2           Yes  debt_consolidation   12.87%       121.08       11.238436   \n",
       "3            No           all_other   15.37%       348.47       11.142007   \n",
       "4           Yes  debt_consolidation   14.61%       344.76       10.308953   \n",
       "\n",
       "     dti  fico  days.with.cr.line  revol.bal  revol.util delinq.2yrs  \\\n",
       "0  14.45   722        4291.000000      13171        51.8          No   \n",
       "1  12.87   752        5789.958333      14857        31.3         Yes   \n",
       "2   1.58   692        3391.000000      12135        85.5          No   \n",
       "3  11.01   687        5370.000000      10631        35.3          No   \n",
       "4  11.36   672        2429.958333      10544        57.0         Yes   \n",
       "\n",
       "  paid.back.loan  \n",
       "0            Yes  \n",
       "1            Yes  \n",
       "2            Yes  \n",
       "3            Yes  \n",
       "4            Yes  "
      ]
     },
     "execution_count": 350,
     "metadata": {},
     "output_type": "execute_result"
    }
   ],
   "source": [
    "train.head()"
   ]
  },
  {
   "cell_type": "code",
   "execution_count": 351,
   "metadata": {},
   "outputs": [
    {
     "data": {
      "text/plain": [
       "952013"
      ]
     },
     "execution_count": 351,
     "metadata": {},
     "output_type": "execute_result"
    }
   ],
   "source": [
    "train['revol.bal'].max()"
   ]
  },
  {
   "cell_type": "code",
   "execution_count": 352,
   "metadata": {},
   "outputs": [
    {
     "data": {
      "text/plain": [
       "0"
      ]
     },
     "execution_count": 352,
     "metadata": {},
     "output_type": "execute_result"
    }
   ],
   "source": [
    "train['revol.bal'].min()"
   ]
  },
  {
   "cell_type": "code",
   "execution_count": 353,
   "metadata": {},
   "outputs": [
    {
     "data": {
      "text/plain": [
       "(7662, 12)"
      ]
     },
     "execution_count": 353,
     "metadata": {},
     "output_type": "execute_result"
    }
   ],
   "source": [
    "train.shape"
   ]
  },
  {
   "cell_type": "code",
   "execution_count": 354,
   "metadata": {},
   "outputs": [
    {
     "data": {
      "text/plain": [
       "<matplotlib.axes._subplots.AxesSubplot at 0x1c1ebd11bb0>"
      ]
     },
     "execution_count": 354,
     "metadata": {},
     "output_type": "execute_result"
    },
    {
     "data": {
      "image/png": "[encoded data removed]",
      "text/plain": [
       "<Figure size 432x288 with 1 Axes>"
      ]
     },
     "metadata": {
      "needs_background": "light"
     },
     "output_type": "display_data"
    }
   ],
   "source": [
    "train['revol.bal'].plot(kind='box')"
   ]
  },
  {
   "cell_type": "code",
   "execution_count": 355,
   "metadata": {},
   "outputs": [
    {
     "data": {
      "text/html": [
       "<div>\n",
       "<style scoped>\n",
       "    .dataframe tbody tr th:only-of-type {\n",
       "        vertical-align: middle;\n",
       "    }\n",
       "\n",
       "    .dataframe tbody tr th {\n",
       "        vertical-align: top;\n",
       "    }\n",
       "\n",
       "    .dataframe thead th {\n",
       "        text-align: right;\n",
       "    }\n",
       "</style>\n",
       "<table border=\"1\" class=\"dataframe\">\n",
       "  <thead>\n",
       "    <tr style=\"text-align: right;\">\n",
       "      <th></th>\n",
       "      <th>credit.policy</th>\n",
       "      <th>purpose</th>\n",
       "      <th>int.rate</th>\n",
       "      <th>installment</th>\n",
       "      <th>log.annual.inc</th>\n",
       "      <th>dti</th>\n",
       "      <th>fico</th>\n",
       "      <th>days.with.cr.line</th>\n",
       "      <th>revol.bal</th>\n",
       "      <th>revol.util</th>\n",
       "      <th>delinq.2yrs</th>\n",
       "      <th>paid.back.loan</th>\n",
       "    </tr>\n",
       "  </thead>\n",
       "  <tbody>\n",
       "    <tr>\n",
       "      <th>0</th>\n",
       "      <td>Yes</td>\n",
       "      <td>debt_consolidation</td>\n",
       "      <td>12.53%</td>\n",
       "      <td>689.41</td>\n",
       "      <td>11.513725</td>\n",
       "      <td>14.45</td>\n",
       "      <td>722</td>\n",
       "      <td>4291.000000</td>\n",
       "      <td>13171</td>\n",
       "      <td>51.8</td>\n",
       "      <td>No</td>\n",
       "      <td>Yes</td>\n",
       "    </tr>\n",
       "    <tr>\n",
       "      <th>1</th>\n",
       "      <td>Yes</td>\n",
       "      <td>credit_card</td>\n",
       "      <td>10.20%</td>\n",
       "      <td>485.42</td>\n",
       "      <td>10.315597</td>\n",
       "      <td>12.87</td>\n",
       "      <td>752</td>\n",
       "      <td>5789.958333</td>\n",
       "      <td>14857</td>\n",
       "      <td>31.3</td>\n",
       "      <td>Yes</td>\n",
       "      <td>Yes</td>\n",
       "    </tr>\n",
       "    <tr>\n",
       "      <th>2</th>\n",
       "      <td>Yes</td>\n",
       "      <td>debt_consolidation</td>\n",
       "      <td>12.87%</td>\n",
       "      <td>121.08</td>\n",
       "      <td>11.238436</td>\n",
       "      <td>1.58</td>\n",
       "      <td>692</td>\n",
       "      <td>3391.000000</td>\n",
       "      <td>12135</td>\n",
       "      <td>85.5</td>\n",
       "      <td>No</td>\n",
       "      <td>Yes</td>\n",
       "    </tr>\n",
       "    <tr>\n",
       "      <th>3</th>\n",
       "      <td>No</td>\n",
       "      <td>all_other</td>\n",
       "      <td>15.37%</td>\n",
       "      <td>348.47</td>\n",
       "      <td>11.142007</td>\n",
       "      <td>11.01</td>\n",
       "      <td>687</td>\n",
       "      <td>5370.000000</td>\n",
       "      <td>10631</td>\n",
       "      <td>35.3</td>\n",
       "      <td>No</td>\n",
       "      <td>Yes</td>\n",
       "    </tr>\n",
       "    <tr>\n",
       "      <th>4</th>\n",
       "      <td>Yes</td>\n",
       "      <td>debt_consolidation</td>\n",
       "      <td>14.61%</td>\n",
       "      <td>344.76</td>\n",
       "      <td>10.308953</td>\n",
       "      <td>11.36</td>\n",
       "      <td>672</td>\n",
       "      <td>2429.958333</td>\n",
       "      <td>10544</td>\n",
       "      <td>57.0</td>\n",
       "      <td>Yes</td>\n",
       "      <td>Yes</td>\n",
       "    </tr>\n",
       "    <tr>\n",
       "      <th>...</th>\n",
       "      <td>...</td>\n",
       "      <td>...</td>\n",
       "      <td>...</td>\n",
       "      <td>...</td>\n",
       "      <td>...</td>\n",
       "      <td>...</td>\n",
       "      <td>...</td>\n",
       "      <td>...</td>\n",
       "      <td>...</td>\n",
       "      <td>...</td>\n",
       "      <td>...</td>\n",
       "      <td>...</td>\n",
       "    </tr>\n",
       "    <tr>\n",
       "      <th>7646</th>\n",
       "      <td>No</td>\n",
       "      <td>all_other</td>\n",
       "      <td>14.74%</td>\n",
       "      <td>34.54</td>\n",
       "      <td>11.034890</td>\n",
       "      <td>1.49</td>\n",
       "      <td>702</td>\n",
       "      <td>1080.000000</td>\n",
       "      <td>1914</td>\n",
       "      <td>44.5</td>\n",
       "      <td>No</td>\n",
       "      <td>No</td>\n",
       "    </tr>\n",
       "    <tr>\n",
       "      <th>7647</th>\n",
       "      <td>No</td>\n",
       "      <td>debt_consolidation</td>\n",
       "      <td>11.97%</td>\n",
       "      <td>166.00</td>\n",
       "      <td>10.308953</td>\n",
       "      <td>20.76</td>\n",
       "      <td>687</td>\n",
       "      <td>4079.958333</td>\n",
       "      <td>14536</td>\n",
       "      <td>68.9</td>\n",
       "      <td>No</td>\n",
       "      <td>Yes</td>\n",
       "    </tr>\n",
       "    <tr>\n",
       "      <th>7648</th>\n",
       "      <td>Yes</td>\n",
       "      <td>debt_consolidation</td>\n",
       "      <td>16.00%</td>\n",
       "      <td>457.05</td>\n",
       "      <td>11.418615</td>\n",
       "      <td>23.89</td>\n",
       "      <td>662</td>\n",
       "      <td>2190.000000</td>\n",
       "      <td>58686</td>\n",
       "      <td>80.8</td>\n",
       "      <td>No</td>\n",
       "      <td>Yes</td>\n",
       "    </tr>\n",
       "    <tr>\n",
       "      <th>7649</th>\n",
       "      <td>No</td>\n",
       "      <td>debt_consolidation</td>\n",
       "      <td>17.97%</td>\n",
       "      <td>225.86</td>\n",
       "      <td>10.645425</td>\n",
       "      <td>28.29</td>\n",
       "      <td>662</td>\n",
       "      <td>4188.000000</td>\n",
       "      <td>28432</td>\n",
       "      <td>57.1</td>\n",
       "      <td>Yes</td>\n",
       "      <td>No</td>\n",
       "    </tr>\n",
       "    <tr>\n",
       "      <th>7650</th>\n",
       "      <td>Yes</td>\n",
       "      <td>debt_consolidation</td>\n",
       "      <td>14.11%</td>\n",
       "      <td>329.46</td>\n",
       "      <td>10.714418</td>\n",
       "      <td>22.48</td>\n",
       "      <td>682</td>\n",
       "      <td>2309.958333</td>\n",
       "      <td>13575</td>\n",
       "      <td>73.8</td>\n",
       "      <td>No</td>\n",
       "      <td>No</td>\n",
       "    </tr>\n",
       "  </tbody>\n",
       "</table>\n",
       "<p>7651 rows × 12 columns</p>\n",
       "</div>"
      ],
      "text/plain": [
       "     credit.policy             purpose int.rate  installment  log.annual.inc  \\\n",
       "0              Yes  debt_consolidation   12.53%       689.41       11.513725   \n",
       "1              Yes         credit_card   10.20%       485.42       10.315597   \n",
       "2              Yes  debt_consolidation   12.87%       121.08       11.238436   \n",
       "3               No           all_other   15.37%       348.47       11.142007   \n",
       "4              Yes  debt_consolidation   14.61%       344.76       10.308953   \n",
       "...            ...                 ...      ...          ...             ...   \n",
       "7646            No           all_other   14.74%        34.54       11.034890   \n",
       "7647            No  debt_consolidation   11.97%       166.00       10.308953   \n",
       "7648           Yes  debt_consolidation   16.00%       457.05       11.418615   \n",
       "7649            No  debt_consolidation   17.97%       225.86       10.645425   \n",
       "7650           Yes  debt_consolidation   14.11%       329.46       10.714418   \n",
       "\n",
       "        dti  fico  days.with.cr.line  revol.bal  revol.util delinq.2yrs  \\\n",
       "0     14.45   722        4291.000000      13171        51.8          No   \n",
       "1     12.87   752        5789.958333      14857        31.3         Yes   \n",
       "2      1.58   692        3391.000000      12135        85.5          No   \n",
       "3     11.01   687        5370.000000      10631        35.3          No   \n",
       "4     11.36   672        2429.958333      10544        57.0         Yes   \n",
       "...     ...   ...                ...        ...         ...         ...   \n",
       "7646   1.49   702        1080.000000       1914        44.5          No   \n",
       "7647  20.76   687        4079.958333      14536        68.9          No   \n",
       "7648  23.89   662        2190.000000      58686        80.8          No   \n",
       "7649  28.29   662        4188.000000      28432        57.1         Yes   \n",
       "7650  22.48   682        2309.958333      13575        73.8          No   \n",
       "\n",
       "     paid.back.loan  \n",
       "0               Yes  \n",
       "1               Yes  \n",
       "2               Yes  \n",
       "3               Yes  \n",
       "4               Yes  \n",
       "...             ...  \n",
       "7646             No  \n",
       "7647            Yes  \n",
       "7648            Yes  \n",
       "7649             No  \n",
       "7650             No  \n",
       "\n",
       "[7651 rows x 12 columns]"
      ]
     },
     "execution_count": 355,
     "metadata": {},
     "output_type": "execute_result"
    }
   ],
   "source": [
    "train_1=train[train['revol.bal'] < 300000]\n",
    "train_1 = train_1.reset_index(drop=True)\n",
    "\n",
    "#new_dataframe = a_dataframe[a_dataframe.B <= 3]\n",
    "#new_dataframe = new_dataframe.reset_index(drop=True)\n",
    "\n",
    "train_1"
   ]
  },
  {
   "cell_type": "code",
   "execution_count": 356,
   "metadata": {},
   "outputs": [
    {
     "data": {
      "text/plain": [
       "(7651, 12)"
      ]
     },
     "execution_count": 356,
     "metadata": {},
     "output_type": "execute_result"
    }
   ],
   "source": [
    "train_1.shape "
   ]
  },
  {
   "cell_type": "code",
   "execution_count": 357,
   "metadata": {},
   "outputs": [
    {
     "data": {
      "text/plain": [
       "credit.policy        0\n",
       "purpose              0\n",
       "int.rate             0\n",
       "installment          0\n",
       "log.annual.inc       0\n",
       "dti                  0\n",
       "fico                 0\n",
       "days.with.cr.line    0\n",
       "revol.bal            0\n",
       "revol.util           0\n",
       "delinq.2yrs          0\n",
       "paid.back.loan       0\n",
       "dtype: int64"
      ]
     },
     "execution_count": 357,
     "metadata": {},
     "output_type": "execute_result"
    }
   ],
   "source": [
    "train_1.isnull().sum()"
   ]
  },
  {
   "cell_type": "code",
   "execution_count": 358,
   "metadata": {},
   "outputs": [
    {
     "name": "stdout",
     "output_type": "stream",
     "text": [
      "<class 'pandas.core.frame.DataFrame'>\n",
      "RangeIndex: 7651 entries, 0 to 7650\n",
      "Data columns (total 12 columns):\n",
      " #   Column             Non-Null Count  Dtype  \n",
      "---  ------             --------------  -----  \n",
      " 0   credit.policy      7651 non-null   object \n",
      " 1   purpose            7651 non-null   object \n",
      " 2   int.rate           7651 non-null   object \n",
      " 3   installment        7651 non-null   float64\n",
      " 4   log.annual.inc     7651 non-null   float64\n",
      " 5   dti                7651 non-null   float64\n",
      " 6   fico               7651 non-null   int64  \n",
      " 7   days.with.cr.line  7651 non-null   float64\n",
      " 8   revol.bal          7651 non-null   int64  \n",
      " 9   revol.util         7651 non-null   float64\n",
      " 10  delinq.2yrs        7651 non-null   object \n",
      " 11  paid.back.loan     7651 non-null   object \n",
      "dtypes: float64(5), int64(2), object(5)\n",
      "memory usage: 717.4+ KB\n"
     ]
    }
   ],
   "source": [
    "train_1.info()"
   ]
  },
  {
   "cell_type": "markdown",
   "metadata": {},
   "source": [
    "### Visualize the data\n",
    "\n",
    "- Check for the categorical & continuous features. \n",
    "- Check out the best plots for plotting between categorical target and continuous features and try making some inferences from these plots.\n",
    "- Clean the data, apply some data preprocessing and engineering techniques."
   ]
  },
  {
   "cell_type": "code",
   "execution_count": 359,
   "metadata": {},
   "outputs": [
    {
     "name": "stdout",
     "output_type": "stream",
     "text": [
      "Yes    6438\n",
      "No     1213\n",
      "Name: paid.back.loan, dtype: int64\n",
      "Yes    0.841459\n",
      "No     0.158541\n",
      "Name: paid.back.loan, dtype: float64\n"
     ]
    },
    {
     "data": {
      "text/plain": [
       "<BarContainer object of 2 artists>"
      ]
     },
     "execution_count": 359,
     "metadata": {},
     "output_type": "execute_result"
    },
    {
     "data": {
      "image/png": "[encoded data removed]",
      "text/plain": [
       "<Figure size 432x288 with 1 Axes>"
      ]
     },
     "metadata": {
      "needs_background": "light"
     },
     "output_type": "display_data"
    }
   ],
   "source": [
    "# Code starts here\n",
    "\n",
    "fully_paid=train_1['paid.back.loan'].value_counts()\n",
    "fully_paid_percentage=(train_1['paid.back.loan'].value_counts())/len(train_1['paid.back.loan'])\n",
    "print(fully_paid)\n",
    "print(fully_paid_percentage)\n",
    "plt.bar(fully_paid.index,fully_paid)\n",
    "# Code ends here."
   ]
  },
  {
   "cell_type": "code",
   "execution_count": 360,
   "metadata": {},
   "outputs": [],
   "source": [
    "train_1['int.rate']=train_1['int.rate'].map(lambda x: str(x)[:-1])\n",
    "train_1['int.rate']=train_1['int.rate'].astype(float)/100"
   ]
  },
  {
   "cell_type": "code",
   "execution_count": 361,
   "metadata": {},
   "outputs": [
    {
     "data": {
      "text/html": [
       "<div>\n",
       "<style scoped>\n",
       "    .dataframe tbody tr th:only-of-type {\n",
       "        vertical-align: middle;\n",
       "    }\n",
       "\n",
       "    .dataframe tbody tr th {\n",
       "        vertical-align: top;\n",
       "    }\n",
       "\n",
       "    .dataframe thead th {\n",
       "        text-align: right;\n",
       "    }\n",
       "</style>\n",
       "<table border=\"1\" class=\"dataframe\">\n",
       "  <thead>\n",
       "    <tr style=\"text-align: right;\">\n",
       "      <th></th>\n",
       "      <th>credit.policy</th>\n",
       "      <th>purpose</th>\n",
       "      <th>int.rate</th>\n",
       "      <th>installment</th>\n",
       "      <th>log.annual.inc</th>\n",
       "      <th>dti</th>\n",
       "      <th>fico</th>\n",
       "      <th>days.with.cr.line</th>\n",
       "      <th>revol.bal</th>\n",
       "      <th>revol.util</th>\n",
       "      <th>delinq.2yrs</th>\n",
       "      <th>paid.back.loan</th>\n",
       "    </tr>\n",
       "  </thead>\n",
       "  <tbody>\n",
       "    <tr>\n",
       "      <th>0</th>\n",
       "      <td>Yes</td>\n",
       "      <td>debt_consolidation</td>\n",
       "      <td>12.53%</td>\n",
       "      <td>689.41</td>\n",
       "      <td>11.513725</td>\n",
       "      <td>14.45</td>\n",
       "      <td>722</td>\n",
       "      <td>4291.000000</td>\n",
       "      <td>13171</td>\n",
       "      <td>51.8</td>\n",
       "      <td>No</td>\n",
       "      <td>Yes</td>\n",
       "    </tr>\n",
       "    <tr>\n",
       "      <th>1</th>\n",
       "      <td>Yes</td>\n",
       "      <td>credit_card</td>\n",
       "      <td>10.20%</td>\n",
       "      <td>485.42</td>\n",
       "      <td>10.315597</td>\n",
       "      <td>12.87</td>\n",
       "      <td>752</td>\n",
       "      <td>5789.958333</td>\n",
       "      <td>14857</td>\n",
       "      <td>31.3</td>\n",
       "      <td>Yes</td>\n",
       "      <td>Yes</td>\n",
       "    </tr>\n",
       "    <tr>\n",
       "      <th>2</th>\n",
       "      <td>Yes</td>\n",
       "      <td>debt_consolidation</td>\n",
       "      <td>12.87%</td>\n",
       "      <td>121.08</td>\n",
       "      <td>11.238436</td>\n",
       "      <td>1.58</td>\n",
       "      <td>692</td>\n",
       "      <td>3391.000000</td>\n",
       "      <td>12135</td>\n",
       "      <td>85.5</td>\n",
       "      <td>No</td>\n",
       "      <td>Yes</td>\n",
       "    </tr>\n",
       "    <tr>\n",
       "      <th>3</th>\n",
       "      <td>No</td>\n",
       "      <td>all_other</td>\n",
       "      <td>15.37%</td>\n",
       "      <td>348.47</td>\n",
       "      <td>11.142007</td>\n",
       "      <td>11.01</td>\n",
       "      <td>687</td>\n",
       "      <td>5370.000000</td>\n",
       "      <td>10631</td>\n",
       "      <td>35.3</td>\n",
       "      <td>No</td>\n",
       "      <td>Yes</td>\n",
       "    </tr>\n",
       "    <tr>\n",
       "      <th>4</th>\n",
       "      <td>Yes</td>\n",
       "      <td>debt_consolidation</td>\n",
       "      <td>14.61%</td>\n",
       "      <td>344.76</td>\n",
       "      <td>10.308953</td>\n",
       "      <td>11.36</td>\n",
       "      <td>672</td>\n",
       "      <td>2429.958333</td>\n",
       "      <td>10544</td>\n",
       "      <td>57.0</td>\n",
       "      <td>Yes</td>\n",
       "      <td>Yes</td>\n",
       "    </tr>\n",
       "  </tbody>\n",
       "</table>\n",
       "</div>"
      ],
      "text/plain": [
       "  credit.policy             purpose int.rate  installment  log.annual.inc  \\\n",
       "0           Yes  debt_consolidation   12.53%       689.41       11.513725   \n",
       "1           Yes         credit_card   10.20%       485.42       10.315597   \n",
       "2           Yes  debt_consolidation   12.87%       121.08       11.238436   \n",
       "3            No           all_other   15.37%       348.47       11.142007   \n",
       "4           Yes  debt_consolidation   14.61%       344.76       10.308953   \n",
       "\n",
       "     dti  fico  days.with.cr.line  revol.bal  revol.util delinq.2yrs  \\\n",
       "0  14.45   722        4291.000000      13171        51.8          No   \n",
       "1  12.87   752        5789.958333      14857        31.3         Yes   \n",
       "2   1.58   692        3391.000000      12135        85.5          No   \n",
       "3  11.01   687        5370.000000      10631        35.3          No   \n",
       "4  11.36   672        2429.958333      10544        57.0         Yes   \n",
       "\n",
       "  paid.back.loan  \n",
       "0            Yes  \n",
       "1            Yes  \n",
       "2            Yes  \n",
       "3            Yes  \n",
       "4            Yes  "
      ]
     },
     "execution_count": 361,
     "metadata": {},
     "output_type": "execute_result"
    }
   ],
   "source": [
    "train.head()"
   ]
  },
  {
   "cell_type": "code",
   "execution_count": 362,
   "metadata": {},
   "outputs": [
    {
     "data": {
      "text/html": [
       "<div>\n",
       "<style scoped>\n",
       "    .dataframe tbody tr th:only-of-type {\n",
       "        vertical-align: middle;\n",
       "    }\n",
       "\n",
       "    .dataframe tbody tr th {\n",
       "        vertical-align: top;\n",
       "    }\n",
       "\n",
       "    .dataframe thead th {\n",
       "        text-align: right;\n",
       "    }\n",
       "</style>\n",
       "<table border=\"1\" class=\"dataframe\">\n",
       "  <thead>\n",
       "    <tr style=\"text-align: right;\">\n",
       "      <th></th>\n",
       "      <th>int.rate</th>\n",
       "      <th>installment</th>\n",
       "      <th>log.annual.inc</th>\n",
       "      <th>dti</th>\n",
       "      <th>fico</th>\n",
       "      <th>days.with.cr.line</th>\n",
       "      <th>revol.bal</th>\n",
       "      <th>revol.util</th>\n",
       "    </tr>\n",
       "  </thead>\n",
       "  <tbody>\n",
       "    <tr>\n",
       "      <th>0</th>\n",
       "      <td>0.1253</td>\n",
       "      <td>689.41</td>\n",
       "      <td>11.513725</td>\n",
       "      <td>14.45</td>\n",
       "      <td>722</td>\n",
       "      <td>4291.000000</td>\n",
       "      <td>13171</td>\n",
       "      <td>51.8</td>\n",
       "    </tr>\n",
       "    <tr>\n",
       "      <th>1</th>\n",
       "      <td>0.1020</td>\n",
       "      <td>485.42</td>\n",
       "      <td>10.315597</td>\n",
       "      <td>12.87</td>\n",
       "      <td>752</td>\n",
       "      <td>5789.958333</td>\n",
       "      <td>14857</td>\n",
       "      <td>31.3</td>\n",
       "    </tr>\n",
       "    <tr>\n",
       "      <th>2</th>\n",
       "      <td>0.1287</td>\n",
       "      <td>121.08</td>\n",
       "      <td>11.238436</td>\n",
       "      <td>1.58</td>\n",
       "      <td>692</td>\n",
       "      <td>3391.000000</td>\n",
       "      <td>12135</td>\n",
       "      <td>85.5</td>\n",
       "    </tr>\n",
       "    <tr>\n",
       "      <th>3</th>\n",
       "      <td>0.1537</td>\n",
       "      <td>348.47</td>\n",
       "      <td>11.142007</td>\n",
       "      <td>11.01</td>\n",
       "      <td>687</td>\n",
       "      <td>5370.000000</td>\n",
       "      <td>10631</td>\n",
       "      <td>35.3</td>\n",
       "    </tr>\n",
       "    <tr>\n",
       "      <th>4</th>\n",
       "      <td>0.1461</td>\n",
       "      <td>344.76</td>\n",
       "      <td>10.308953</td>\n",
       "      <td>11.36</td>\n",
       "      <td>672</td>\n",
       "      <td>2429.958333</td>\n",
       "      <td>10544</td>\n",
       "      <td>57.0</td>\n",
       "    </tr>\n",
       "  </tbody>\n",
       "</table>\n",
       "</div>"
      ],
      "text/plain": [
       "   int.rate  installment  log.annual.inc    dti  fico  days.with.cr.line  \\\n",
       "0    0.1253       689.41       11.513725  14.45   722        4291.000000   \n",
       "1    0.1020       485.42       10.315597  12.87   752        5789.958333   \n",
       "2    0.1287       121.08       11.238436   1.58   692        3391.000000   \n",
       "3    0.1537       348.47       11.142007  11.01   687        5370.000000   \n",
       "4    0.1461       344.76       10.308953  11.36   672        2429.958333   \n",
       "\n",
       "   revol.bal  revol.util  \n",
       "0      13171        51.8  \n",
       "1      14857        31.3  \n",
       "2      12135        85.5  \n",
       "3      10631        35.3  \n",
       "4      10544        57.0  "
      ]
     },
     "execution_count": 362,
     "metadata": {},
     "output_type": "execute_result"
    }
   ],
   "source": [
    "num_df=train_1.select_dtypes(include=['number']).copy()\n",
    "cat_df=train_1.select_dtypes(include=['object']).copy()\n",
    "num_df.head()"
   ]
  },
  {
   "cell_type": "code",
   "execution_count": 363,
   "metadata": {},
   "outputs": [
    {
     "data": {
      "text/html": [
       "<div>\n",
       "<style scoped>\n",
       "    .dataframe tbody tr th:only-of-type {\n",
       "        vertical-align: middle;\n",
       "    }\n",
       "\n",
       "    .dataframe tbody tr th {\n",
       "        vertical-align: top;\n",
       "    }\n",
       "\n",
       "    .dataframe thead th {\n",
       "        text-align: right;\n",
       "    }\n",
       "</style>\n",
       "<table border=\"1\" class=\"dataframe\">\n",
       "  <thead>\n",
       "    <tr style=\"text-align: right;\">\n",
       "      <th></th>\n",
       "      <th>credit.policy</th>\n",
       "      <th>purpose</th>\n",
       "      <th>delinq.2yrs</th>\n",
       "      <th>paid.back.loan</th>\n",
       "    </tr>\n",
       "  </thead>\n",
       "  <tbody>\n",
       "    <tr>\n",
       "      <th>0</th>\n",
       "      <td>Yes</td>\n",
       "      <td>debt_consolidation</td>\n",
       "      <td>No</td>\n",
       "      <td>Yes</td>\n",
       "    </tr>\n",
       "    <tr>\n",
       "      <th>1</th>\n",
       "      <td>Yes</td>\n",
       "      <td>credit_card</td>\n",
       "      <td>Yes</td>\n",
       "      <td>Yes</td>\n",
       "    </tr>\n",
       "    <tr>\n",
       "      <th>2</th>\n",
       "      <td>Yes</td>\n",
       "      <td>debt_consolidation</td>\n",
       "      <td>No</td>\n",
       "      <td>Yes</td>\n",
       "    </tr>\n",
       "    <tr>\n",
       "      <th>3</th>\n",
       "      <td>No</td>\n",
       "      <td>all_other</td>\n",
       "      <td>No</td>\n",
       "      <td>Yes</td>\n",
       "    </tr>\n",
       "    <tr>\n",
       "      <th>4</th>\n",
       "      <td>Yes</td>\n",
       "      <td>debt_consolidation</td>\n",
       "      <td>Yes</td>\n",
       "      <td>Yes</td>\n",
       "    </tr>\n",
       "  </tbody>\n",
       "</table>\n",
       "</div>"
      ],
      "text/plain": [
       "  credit.policy             purpose delinq.2yrs paid.back.loan\n",
       "0           Yes  debt_consolidation          No            Yes\n",
       "1           Yes         credit_card         Yes            Yes\n",
       "2           Yes  debt_consolidation          No            Yes\n",
       "3            No           all_other          No            Yes\n",
       "4           Yes  debt_consolidation         Yes            Yes"
      ]
     },
     "execution_count": 363,
     "metadata": {},
     "output_type": "execute_result"
    }
   ],
   "source": [
    "cat_df.head()"
   ]
  },
  {
   "cell_type": "code",
   "execution_count": 364,
   "metadata": {},
   "outputs": [
    {
     "name": "stdout",
     "output_type": "stream",
     "text": [
      "['int.rate', 'installment', 'log.annual.inc', 'dti', 'fico', 'days.with.cr.line', 'revol.bal', 'revol.util']\n"
     ]
    },
    {
     "data": {
      "text/plain": [
       "<Figure size 1440x1440 with 0 Axes>"
      ]
     },
     "metadata": {},
     "output_type": "display_data"
    }
   ],
   "source": [
    "plt.figure(figsize=(20,20))\n",
    "cols=list(num_df)\n",
    "print(cols)\n"
   ]
  },
  {
   "cell_type": "code",
   "execution_count": 365,
   "metadata": {},
   "outputs": [
    {
     "data": {
      "image/png": "[encoded data removed]",
      "text/plain": [
       "<Figure size 720x1440 with 8 Axes>"
      ]
     },
     "metadata": {
      "needs_background": "light"
     },
     "output_type": "display_data"
    }
   ],
   "source": [
    "fig,axes=plt.subplots(8,1,figsize=(10,20))\n",
    "for i in range(8):\n",
    "    sns.boxplot(x=train_1['paid.back.loan'],y=num_df[cols[i]],ax=axes[i])\n",
    "    fig.tight_layout()"
   ]
  },
  {
   "cell_type": "code",
   "execution_count": 366,
   "metadata": {},
   "outputs": [
    {
     "data": {
      "text/plain": [
       "['credit.policy', 'purpose', 'delinq.2yrs', 'paid.back.loan']"
      ]
     },
     "execution_count": 366,
     "metadata": {},
     "output_type": "execute_result"
    }
   ],
   "source": [
    "cols1=list(cat_df)\n",
    "cols1"
   ]
  },
  {
   "cell_type": "code",
   "execution_count": 367,
   "metadata": {},
   "outputs": [
    {
     "data": {
      "image/png": "[encoded data removed]",
      "text/plain": [
       "<Figure size 720x1440 with 4 Axes>"
      ]
     },
     "metadata": {
      "needs_background": "light"
     },
     "output_type": "display_data"
    }
   ],
   "source": [
    "fig,axes=plt.subplots(2,2,figsize=(10,20))\n",
    "for i in range(2):\n",
    "    for j in range(2):\n",
    "        sns.countplot(x=train_1[cols1[i*2+j]],hue=train_1['paid.back.loan'],ax=axes[i,j])\n",
    "        fig.tight_layout()"
   ]
  },
  {
   "cell_type": "markdown",
   "metadata": {},
   "source": [
    "### Model building\n",
    "\n",
    "- Separate the features and target.\n",
    "- Now let's come to the actual task, using Decision Tree, predict the `paid.back.loan`. Use different techniques you have learned to imporove the performance of the model.\n",
    "- Try improving upon the `accuracy_score` ([Accuracy Score](https://scikit-learn.org/stable/modules/generated/sklearn.metrics.accuracy_score.html))"
   ]
  },
  {
   "cell_type": "code",
   "execution_count": 368,
   "metadata": {},
   "outputs": [
    {
     "data": {
      "text/plain": [
       "0.7177700348432056"
      ]
     },
     "execution_count": 368,
     "metadata": {},
     "output_type": "execute_result"
    }
   ],
   "source": [
    "# Code Starts here\n",
    "X=train_1.drop('paid.back.loan',axis=1)\n",
    "y=train_1['paid.back.loan']\n",
    "X_train,X_test,y_train,y_test=train_test_split(X,y,test_size=0.3,random_state=6)\n",
    "le=LabelEncoder()\n",
    "for col in cat_df.columns[:-1]:\n",
    "    X_train[col].fillna('NA',inplace=True)\n",
    "    X_test[col].fillna('NA',inplace=True)\n",
    "    X_train[col]=le.fit_transform(X_train[col])\n",
    "    X_test[col]=le.transform(X_test[col])\n",
    "y_train.replace({'No':0,'Yes':1},inplace=True)  \n",
    "y_test.replace({'No':0,'Yes':1},inplace=True)    \n",
    "model=DecisionTreeClassifier(random_state=6)\n",
    "model.fit(X_train,y_train)\n",
    "score=model.score(X_test,y_test)\n",
    "score\n",
    "# Code ends here"
   ]
  },
  {
   "cell_type": "code",
   "execution_count": 369,
   "metadata": {},
   "outputs": [
    {
     "data": {
      "text/plain": [
       "0.8336236933797909"
      ]
     },
     "execution_count": 369,
     "metadata": {},
     "output_type": "execute_result"
    }
   ],
   "source": [
    "parameter_grid={'max_depth':np.arange(3,10),'min_samples_leaf':range(10,50,10)}\n",
    "model_2=DecisionTreeClassifier(random_state=6)\n",
    "p_tree=GridSearchCV(model_2,parameter_grid,cv=5)\n",
    "p_tree.fit(X_train,y_train)\n",
    "score_2=p_tree.score(X_test,y_test)\n",
    "score_2"
   ]
  },
  {
   "cell_type": "code",
   "execution_count": 370,
   "metadata": {},
   "outputs": [
    {
     "name": "stdout",
     "output_type": "stream",
     "text": [
      "Feature importances are: {'credit.policy': 0.022, 'purpose': 0.036, 'int.rate': 0.112, 'installment': 0.115, 'log.annual.inc': 0.108, 'dti': 0.132, 'fico': 0.081, 'days.with.cr.line': 0.114, 'revol.bal': 0.122, 'revol.util': 0.141, 'delinq.2yrs': 0.015}\n"
     ]
    }
   ],
   "source": [
    "print(\"Feature importances are:\", dict(zip(train_1.columns, np.round(model.feature_importances_,3))))"
   ]
  },
  {
   "cell_type": "code",
   "execution_count": 371,
   "metadata": {},
   "outputs": [
    {
     "data": {
      "image/png": "[encoded data removed]",
      "text/plain": [
       "<IPython.core.display.Image object>"
      ]
     },
     "execution_count": 371,
     "metadata": {},
     "output_type": "execute_result"
    }
   ],
   "source": [
    "dot_data = tree.export_graphviz(decision_tree=p_tree.best_estimator_, out_file=None,\n",
    "                                feature_names=X.columns, filled = True,  \n",
    "                                class_names=['paid.back.loan_yes','paid.back.loan_no'])\n",
    "\n",
    "# Draw graph\n",
    "graph_big = pydotplus.graph_from_dot_data(dot_data)  \n",
    "\n",
    "# Show graph\n",
    "Image(graph_big.create_png())"
   ]
  },
  {
   "cell_type": "markdown",
   "metadata": {},
   "source": [
    "### Prediction on the test data and creating the sample submission file.\n",
    "\n",
    "- Load the test data and store the `Id` column in a separate variable.\n",
    "- Perform the same operations on the test data that you have performed on the train data.\n",
    "- Create the submission file as a `csv` file consisting of the `Id` column from the test data and your prediction as the second column."
   ]
  },
  {
   "cell_type": "code",
   "execution_count": 372,
   "metadata": {},
   "outputs": [],
   "source": [
    "# Code Starts here\n",
    "test=pd.read_csv('test.csv')\n",
    "Id=test['Id'].copy()\n",
    "test.drop(['Id','customer.id','inq.last.6mths','pub.rec'],axis=1,inplace=True)\n",
    "\n",
    "\n",
    "# Code ends here"
   ]
  },
  {
   "cell_type": "code",
   "execution_count": 373,
   "metadata": {},
   "outputs": [
    {
     "data": {
      "text/html": [
       "<div>\n",
       "<style scoped>\n",
       "    .dataframe tbody tr th:only-of-type {\n",
       "        vertical-align: middle;\n",
       "    }\n",
       "\n",
       "    .dataframe tbody tr th {\n",
       "        vertical-align: top;\n",
       "    }\n",
       "\n",
       "    .dataframe thead th {\n",
       "        text-align: right;\n",
       "    }\n",
       "</style>\n",
       "<table border=\"1\" class=\"dataframe\">\n",
       "  <thead>\n",
       "    <tr style=\"text-align: right;\">\n",
       "      <th></th>\n",
       "      <th>credit.policy</th>\n",
       "      <th>purpose</th>\n",
       "      <th>int.rate</th>\n",
       "      <th>installment</th>\n",
       "      <th>log.annual.inc</th>\n",
       "      <th>dti</th>\n",
       "      <th>fico</th>\n",
       "      <th>days.with.cr.line</th>\n",
       "      <th>revol.bal</th>\n",
       "      <th>revol.util</th>\n",
       "      <th>delinq.2yrs</th>\n",
       "    </tr>\n",
       "  </thead>\n",
       "  <tbody>\n",
       "    <tr>\n",
       "      <th>0</th>\n",
       "      <td>Yes</td>\n",
       "      <td>debt_consolidation</td>\n",
       "      <td>11.83%</td>\n",
       "      <td>497.01</td>\n",
       "      <td>11.385092</td>\n",
       "      <td>19.70</td>\n",
       "      <td>732</td>\n",
       "      <td>6481.958333</td>\n",
       "      <td>32725</td>\n",
       "      <td>41.9</td>\n",
       "      <td>No</td>\n",
       "    </tr>\n",
       "    <tr>\n",
       "      <th>1</th>\n",
       "      <td>Yes</td>\n",
       "      <td>all_other</td>\n",
       "      <td>14.96%</td>\n",
       "      <td>138.59</td>\n",
       "      <td>10.714418</td>\n",
       "      <td>1.79</td>\n",
       "      <td>682</td>\n",
       "      <td>1230.041667</td>\n",
       "      <td>1298</td>\n",
       "      <td>81.1</td>\n",
       "      <td>No</td>\n",
       "    </tr>\n",
       "    <tr>\n",
       "      <th>2</th>\n",
       "      <td>Yes</td>\n",
       "      <td>all_other</td>\n",
       "      <td>9.76%</td>\n",
       "      <td>80.39</td>\n",
       "      <td>9.998798</td>\n",
       "      <td>22.25</td>\n",
       "      <td>737</td>\n",
       "      <td>2404.041667</td>\n",
       "      <td>2574</td>\n",
       "      <td>10.5</td>\n",
       "      <td>No</td>\n",
       "    </tr>\n",
       "    <tr>\n",
       "      <th>3</th>\n",
       "      <td>Yes</td>\n",
       "      <td>debt_consolidation</td>\n",
       "      <td>16.32%</td>\n",
       "      <td>247.20</td>\n",
       "      <td>10.915088</td>\n",
       "      <td>3.99</td>\n",
       "      <td>662</td>\n",
       "      <td>2189.958333</td>\n",
       "      <td>4747</td>\n",
       "      <td>93.1</td>\n",
       "      <td>Yes</td>\n",
       "    </tr>\n",
       "    <tr>\n",
       "      <th>4</th>\n",
       "      <td>Yes</td>\n",
       "      <td>credit_card</td>\n",
       "      <td>8.00%</td>\n",
       "      <td>188.02</td>\n",
       "      <td>11.446786</td>\n",
       "      <td>13.27</td>\n",
       "      <td>752</td>\n",
       "      <td>2250.000000</td>\n",
       "      <td>7501</td>\n",
       "      <td>26.8</td>\n",
       "      <td>No</td>\n",
       "    </tr>\n",
       "  </tbody>\n",
       "</table>\n",
       "</div>"
      ],
      "text/plain": [
       "  credit.policy             purpose int.rate  installment  log.annual.inc  \\\n",
       "0           Yes  debt_consolidation   11.83%       497.01       11.385092   \n",
       "1           Yes           all_other   14.96%       138.59       10.714418   \n",
       "2           Yes           all_other    9.76%        80.39        9.998798   \n",
       "3           Yes  debt_consolidation   16.32%       247.20       10.915088   \n",
       "4           Yes         credit_card    8.00%       188.02       11.446786   \n",
       "\n",
       "     dti  fico  days.with.cr.line  revol.bal  revol.util delinq.2yrs  \n",
       "0  19.70   732        6481.958333      32725        41.9          No  \n",
       "1   1.79   682        1230.041667       1298        81.1          No  \n",
       "2  22.25   737        2404.041667       2574        10.5          No  \n",
       "3   3.99   662        2189.958333       4747        93.1         Yes  \n",
       "4  13.27   752        2250.000000       7501        26.8          No  "
      ]
     },
     "execution_count": 373,
     "metadata": {},
     "output_type": "execute_result"
    }
   ],
   "source": [
    "test.head()"
   ]
  },
  {
   "cell_type": "code",
   "execution_count": 374,
   "metadata": {},
   "outputs": [],
   "source": [
    "test['int.rate']=test['int.rate'].map(lambda x: str(x)[:-1])\n",
    "test['int.rate']=test['int.rate'].astype(float)/100"
   ]
  },
  {
   "cell_type": "code",
   "execution_count": 375,
   "metadata": {},
   "outputs": [],
   "source": [
    "test[col].fillna('NA',inplace=True)"
   ]
  },
  {
   "cell_type": "code",
   "execution_count": 376,
   "metadata": {},
   "outputs": [
    {
     "name": "stdout",
     "output_type": "stream",
     "text": [
      "<class 'pandas.core.frame.DataFrame'>\n",
      "RangeIndex: 1916 entries, 0 to 1915\n",
      "Data columns (total 11 columns):\n",
      " #   Column             Non-Null Count  Dtype  \n",
      "---  ------             --------------  -----  \n",
      " 0   credit.policy      1916 non-null   object \n",
      " 1   purpose            1916 non-null   object \n",
      " 2   int.rate           1916 non-null   float64\n",
      " 3   installment        1916 non-null   float64\n",
      " 4   log.annual.inc     1916 non-null   float64\n",
      " 5   dti                1916 non-null   float64\n",
      " 6   fico               1916 non-null   int64  \n",
      " 7   days.with.cr.line  1916 non-null   float64\n",
      " 8   revol.bal          1916 non-null   int64  \n",
      " 9   revol.util         1916 non-null   float64\n",
      " 10  delinq.2yrs        1916 non-null   object \n",
      "dtypes: float64(6), int64(2), object(3)\n",
      "memory usage: 164.8+ KB\n"
     ]
    }
   ],
   "source": [
    "test.info()"
   ]
  },
  {
   "cell_type": "code",
   "execution_count": 377,
   "metadata": {},
   "outputs": [
    {
     "data": {
      "text/html": [
       "<div>\n",
       "<style scoped>\n",
       "    .dataframe tbody tr th:only-of-type {\n",
       "        vertical-align: middle;\n",
       "    }\n",
       "\n",
       "    .dataframe tbody tr th {\n",
       "        vertical-align: top;\n",
       "    }\n",
       "\n",
       "    .dataframe thead th {\n",
       "        text-align: right;\n",
       "    }\n",
       "</style>\n",
       "<table border=\"1\" class=\"dataframe\">\n",
       "  <thead>\n",
       "    <tr style=\"text-align: right;\">\n",
       "      <th></th>\n",
       "      <th>credit.policy</th>\n",
       "      <th>purpose</th>\n",
       "      <th>delinq.2yrs</th>\n",
       "    </tr>\n",
       "  </thead>\n",
       "  <tbody>\n",
       "    <tr>\n",
       "      <th>0</th>\n",
       "      <td>Yes</td>\n",
       "      <td>debt_consolidation</td>\n",
       "      <td>No</td>\n",
       "    </tr>\n",
       "    <tr>\n",
       "      <th>1</th>\n",
       "      <td>Yes</td>\n",
       "      <td>all_other</td>\n",
       "      <td>No</td>\n",
       "    </tr>\n",
       "    <tr>\n",
       "      <th>2</th>\n",
       "      <td>Yes</td>\n",
       "      <td>all_other</td>\n",
       "      <td>No</td>\n",
       "    </tr>\n",
       "    <tr>\n",
       "      <th>3</th>\n",
       "      <td>Yes</td>\n",
       "      <td>debt_consolidation</td>\n",
       "      <td>Yes</td>\n",
       "    </tr>\n",
       "    <tr>\n",
       "      <th>4</th>\n",
       "      <td>Yes</td>\n",
       "      <td>credit_card</td>\n",
       "      <td>No</td>\n",
       "    </tr>\n",
       "  </tbody>\n",
       "</table>\n",
       "</div>"
      ],
      "text/plain": [
       "  credit.policy             purpose delinq.2yrs\n",
       "0           Yes  debt_consolidation          No\n",
       "1           Yes           all_other          No\n",
       "2           Yes           all_other          No\n",
       "3           Yes  debt_consolidation         Yes\n",
       "4           Yes         credit_card          No"
      ]
     },
     "execution_count": 377,
     "metadata": {},
     "output_type": "execute_result"
    }
   ],
   "source": [
    "cat=test.select_dtypes(include=['object']).copy()\n",
    "cat.head()"
   ]
  },
  {
   "cell_type": "code",
   "execution_count": 378,
   "metadata": {},
   "outputs": [],
   "source": [
    "for col in cat.columns:\n",
    "    test[col]=le.fit_transform(test[col])"
   ]
  },
  {
   "cell_type": "code",
   "execution_count": 379,
   "metadata": {},
   "outputs": [
    {
     "data": {
      "text/plain": [
       "array([1, 1, 1, ..., 1, 1, 1], dtype=int64)"
      ]
     },
     "execution_count": 379,
     "metadata": {},
     "output_type": "execute_result"
    }
   ],
   "source": [
    "y_pred = p_tree.predict(test)\n",
    "y_pred\n"
   ]
  },
  {
   "cell_type": "code",
   "execution_count": 380,
   "metadata": {},
   "outputs": [],
   "source": [
    "sample_submission = pd.DataFrame({'Id':Id,'paid.back.loan':y_pred})\n",
    "sample_submission['paid.back.loan'].replace({0:'No',1:'Yes'},inplace=True) \n",
    "\n",
    "# Convert the sample submission file into a csv file\n",
    "sample_submission.to_csv('3rd_submission.csv',index=False)"
   ]
  },
  {
   "cell_type": "code",
   "execution_count": null,
   "metadata": {},
   "outputs": [],
   "source": []
  }
 ],
 "metadata": {
  "kernelspec": {
   "display_name": "Python 3",
   "language": "python",
   "name": "python3"
  },
  "language_info": {
   "codemirror_mode": {
    "name": "ipython",
    "version": 3
   },
   "file_extension": ".py",
   "mimetype": "text/x-python",
   "name": "python",
   "nbconvert_exporter": "python",
   "pygments_lexer": "ipython3",
   "version": "3.8.3"
  }
 },
 "nbformat": 4,
 "nbformat_minor": 4
}
