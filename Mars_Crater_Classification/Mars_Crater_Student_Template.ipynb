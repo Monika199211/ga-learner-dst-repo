{
 "cells": [
  {
   "cell_type": "code",
   "execution_count": 88,
   "metadata": {},
   "outputs": [],
   "source": [
    "# import the modules\n",
    "\n",
    "import pandas as pd\n",
    "import numpy as np\n",
    "import matplotlib.pyplot as plt\n",
    "from sklearn.preprocessing import MinMaxScaler\n",
    "from sklearn.model_selection import train_test_split\n",
    "from sklearn.linear_model import LogisticRegression\n",
    "from sklearn.metrics import roc_auc_score\n",
    "from sklearn.tree import DecisionTreeClassifier\n",
    "from sklearn.ensemble import RandomForestClassifier\n",
    "from sklearn.ensemble import BaggingClassifier\n",
    "from sklearn.ensemble import VotingClassifier\n",
    "import warnings\n",
    "warnings.filterwarnings('ignore')"
   ]
  },
  {
   "cell_type": "markdown",
   "metadata": {},
   "source": [
    "### Load the dataset\n",
    "\n",
    "- Load the train data and using all your knowledge try to explore the different statistical properties of the dataset."
   ]
  },
  {
   "cell_type": "code",
   "execution_count": 89,
   "metadata": {},
   "outputs": [
    {
     "data": {
      "text/html": [
       "<div>\n",
       "<style scoped>\n",
       "    .dataframe tbody tr th:only-of-type {\n",
       "        vertical-align: middle;\n",
       "    }\n",
       "\n",
       "    .dataframe tbody tr th {\n",
       "        vertical-align: top;\n",
       "    }\n",
       "\n",
       "    .dataframe thead th {\n",
       "        text-align: right;\n",
       "    }\n",
       "</style>\n",
       "<table border=\"1\" class=\"dataframe\">\n",
       "  <thead>\n",
       "    <tr style=\"text-align: right;\">\n",
       "      <th></th>\n",
       "      <th>Id</th>\n",
       "      <th>Unnamed: 0</th>\n",
       "      <th>attr0</th>\n",
       "      <th>attr1</th>\n",
       "      <th>attr2</th>\n",
       "      <th>attr3</th>\n",
       "      <th>attr4</th>\n",
       "      <th>attr5</th>\n",
       "      <th>attr6</th>\n",
       "      <th>attr7</th>\n",
       "      <th>...</th>\n",
       "      <th>attr1080</th>\n",
       "      <th>attr1081</th>\n",
       "      <th>attr1082</th>\n",
       "      <th>attr1083</th>\n",
       "      <th>attr1084</th>\n",
       "      <th>attr1085</th>\n",
       "      <th>attr1086</th>\n",
       "      <th>attr1087</th>\n",
       "      <th>attr1088</th>\n",
       "      <th>attr1089</th>\n",
       "    </tr>\n",
       "  </thead>\n",
       "  <tbody>\n",
       "    <tr>\n",
       "      <th>0</th>\n",
       "      <td>2216</td>\n",
       "      <td>2216</td>\n",
       "      <td>-4.374765</td>\n",
       "      <td>13.819856</td>\n",
       "      <td>14.656331</td>\n",
       "      <td>-9.728919</td>\n",
       "      <td>-19.334897</td>\n",
       "      <td>0.344455</td>\n",
       "      <td>11.10572</td>\n",
       "      <td>21.977302</td>\n",
       "      <td>...</td>\n",
       "      <td>89.083581</td>\n",
       "      <td>86.194838</td>\n",
       "      <td>93.162055</td>\n",
       "      <td>100.883355</td>\n",
       "      <td>123.558503</td>\n",
       "      <td>112.831384</td>\n",
       "      <td>100.583377</td>\n",
       "      <td>102.194939</td>\n",
       "      <td>120.306692</td>\n",
       "      <td>0</td>\n",
       "    </tr>\n",
       "    <tr>\n",
       "      <th>1</th>\n",
       "      <td>2673</td>\n",
       "      <td>2673</td>\n",
       "      <td>-13.796261</td>\n",
       "      <td>-4.647589</td>\n",
       "      <td>21.676617</td>\n",
       "      <td>-0.122074</td>\n",
       "      <td>11.228644</td>\n",
       "      <td>-8.806895</td>\n",
       "      <td>-9.16119</td>\n",
       "      <td>18.025709</td>\n",
       "      <td>...</td>\n",
       "      <td>100.750899</td>\n",
       "      <td>83.373142</td>\n",
       "      <td>76.902208</td>\n",
       "      <td>72.182997</td>\n",
       "      <td>102.843819</td>\n",
       "      <td>93.118477</td>\n",
       "      <td>80.338570</td>\n",
       "      <td>80.196648</td>\n",
       "      <td>93.995657</td>\n",
       "      <td>0</td>\n",
       "    </tr>\n",
       "    <tr>\n",
       "      <th>2</th>\n",
       "      <td>5603</td>\n",
       "      <td>5603</td>\n",
       "      <td>-2.115400</td>\n",
       "      <td>-3.332400</td>\n",
       "      <td>-6.640000</td>\n",
       "      <td>-13.825000</td>\n",
       "      <td>4.123200</td>\n",
       "      <td>27.365000</td>\n",
       "      <td>6.70020</td>\n",
       "      <td>3.783000</td>\n",
       "      <td>...</td>\n",
       "      <td>52.917000</td>\n",
       "      <td>34.799000</td>\n",
       "      <td>42.562000</td>\n",
       "      <td>51.161000</td>\n",
       "      <td>77.139000</td>\n",
       "      <td>73.367000</td>\n",
       "      <td>50.733000</td>\n",
       "      <td>39.949000</td>\n",
       "      <td>60.731000</td>\n",
       "      <td>0</td>\n",
       "    </tr>\n",
       "    <tr>\n",
       "      <th>3</th>\n",
       "      <td>6401</td>\n",
       "      <td>6401</td>\n",
       "      <td>-25.531000</td>\n",
       "      <td>66.699000</td>\n",
       "      <td>-13.025000</td>\n",
       "      <td>-31.198000</td>\n",
       "      <td>12.016000</td>\n",
       "      <td>19.365000</td>\n",
       "      <td>5.04510</td>\n",
       "      <td>20.418000</td>\n",
       "      <td>...</td>\n",
       "      <td>49.488000</td>\n",
       "      <td>71.633000</td>\n",
       "      <td>66.757000</td>\n",
       "      <td>69.213000</td>\n",
       "      <td>97.606000</td>\n",
       "      <td>81.416000</td>\n",
       "      <td>53.808000</td>\n",
       "      <td>41.489000</td>\n",
       "      <td>71.825000</td>\n",
       "      <td>0</td>\n",
       "    </tr>\n",
       "    <tr>\n",
       "      <th>4</th>\n",
       "      <td>6043</td>\n",
       "      <td>6043</td>\n",
       "      <td>18.993000</td>\n",
       "      <td>-5.620000</td>\n",
       "      <td>-9.964900</td>\n",
       "      <td>3.307200</td>\n",
       "      <td>0.999760</td>\n",
       "      <td>-10.920000</td>\n",
       "      <td>-11.39200</td>\n",
       "      <td>3.918500</td>\n",
       "      <td>...</td>\n",
       "      <td>84.508000</td>\n",
       "      <td>89.976000</td>\n",
       "      <td>61.169000</td>\n",
       "      <td>33.132000</td>\n",
       "      <td>58.043000</td>\n",
       "      <td>54.522000</td>\n",
       "      <td>80.941000</td>\n",
       "      <td>53.000000</td>\n",
       "      <td>80.615000</td>\n",
       "      <td>1</td>\n",
       "    </tr>\n",
       "  </tbody>\n",
       "</table>\n",
       "<p>5 rows × 1092 columns</p>\n",
       "</div>"
      ],
      "text/plain": [
       "     Id  Unnamed: 0      attr0      attr1      attr2      attr3      attr4  \\\n",
       "0  2216        2216  -4.374765  13.819856  14.656331  -9.728919 -19.334897   \n",
       "1  2673        2673 -13.796261  -4.647589  21.676617  -0.122074  11.228644   \n",
       "2  5603        5603  -2.115400  -3.332400  -6.640000 -13.825000   4.123200   \n",
       "3  6401        6401 -25.531000  66.699000 -13.025000 -31.198000  12.016000   \n",
       "4  6043        6043  18.993000  -5.620000  -9.964900   3.307200   0.999760   \n",
       "\n",
       "       attr5     attr6      attr7  ...    attr1080   attr1081   attr1082  \\\n",
       "0   0.344455  11.10572  21.977302  ...   89.083581  86.194838  93.162055   \n",
       "1  -8.806895  -9.16119  18.025709  ...  100.750899  83.373142  76.902208   \n",
       "2  27.365000   6.70020   3.783000  ...   52.917000  34.799000  42.562000   \n",
       "3  19.365000   5.04510  20.418000  ...   49.488000  71.633000  66.757000   \n",
       "4 -10.920000 -11.39200   3.918500  ...   84.508000  89.976000  61.169000   \n",
       "\n",
       "     attr1083    attr1084    attr1085    attr1086    attr1087    attr1088  \\\n",
       "0  100.883355  123.558503  112.831384  100.583377  102.194939  120.306692   \n",
       "1   72.182997  102.843819   93.118477   80.338570   80.196648   93.995657   \n",
       "2   51.161000   77.139000   73.367000   50.733000   39.949000   60.731000   \n",
       "3   69.213000   97.606000   81.416000   53.808000   41.489000   71.825000   \n",
       "4   33.132000   58.043000   54.522000   80.941000   53.000000   80.615000   \n",
       "\n",
       "   attr1089  \n",
       "0         0  \n",
       "1         0  \n",
       "2         0  \n",
       "3         0  \n",
       "4         1  \n",
       "\n",
       "[5 rows x 1092 columns]"
      ]
     },
     "execution_count": 89,
     "metadata": {},
     "output_type": "execute_result"
    }
   ],
   "source": [
    "# Code starts here\n",
    "df=pd.read_csv(\"train.csv\")\n",
    "df.head()\n",
    "\n",
    "\n",
    "\n",
    "# Code ends here"
   ]
  },
  {
   "cell_type": "code",
   "execution_count": 90,
   "metadata": {},
   "outputs": [
    {
     "data": {
      "text/plain": [
       "Id            0\n",
       "Unnamed: 0    0\n",
       "attr0         0\n",
       "attr1         0\n",
       "attr2         0\n",
       "             ..\n",
       "attr1085      0\n",
       "attr1086      0\n",
       "attr1087      0\n",
       "attr1088      0\n",
       "attr1089      0\n",
       "Length: 1092, dtype: int64"
      ]
     },
     "execution_count": 90,
     "metadata": {},
     "output_type": "execute_result"
    }
   ],
   "source": [
    "df.isnull().sum()"
   ]
  },
  {
   "cell_type": "code",
   "execution_count": 91,
   "metadata": {},
   "outputs": [],
   "source": [
    "X=df.drop(['attr1089','Id','Unnamed: 0'],axis=1)\n",
    "y=df['attr1089']\n",
    "X_train,X_test,y_train,y_test=train_test_split(X,y,test_size=0.3,random_state=0)\n"
   ]
  },
  {
   "cell_type": "code",
   "execution_count": 92,
   "metadata": {},
   "outputs": [
    {
     "data": {
      "text/html": [
       "<div>\n",
       "<style scoped>\n",
       "    .dataframe tbody tr th:only-of-type {\n",
       "        vertical-align: middle;\n",
       "    }\n",
       "\n",
       "    .dataframe tbody tr th {\n",
       "        vertical-align: top;\n",
       "    }\n",
       "\n",
       "    .dataframe thead th {\n",
       "        text-align: right;\n",
       "    }\n",
       "</style>\n",
       "<table border=\"1\" class=\"dataframe\">\n",
       "  <thead>\n",
       "    <tr style=\"text-align: right;\">\n",
       "      <th></th>\n",
       "      <th>attr0</th>\n",
       "      <th>attr1</th>\n",
       "      <th>attr2</th>\n",
       "      <th>attr3</th>\n",
       "      <th>attr4</th>\n",
       "      <th>attr5</th>\n",
       "      <th>attr6</th>\n",
       "      <th>attr7</th>\n",
       "      <th>attr8</th>\n",
       "      <th>attr9</th>\n",
       "      <th>...</th>\n",
       "      <th>attr1079</th>\n",
       "      <th>attr1080</th>\n",
       "      <th>attr1081</th>\n",
       "      <th>attr1082</th>\n",
       "      <th>attr1083</th>\n",
       "      <th>attr1084</th>\n",
       "      <th>attr1085</th>\n",
       "      <th>attr1086</th>\n",
       "      <th>attr1087</th>\n",
       "      <th>attr1088</th>\n",
       "    </tr>\n",
       "  </thead>\n",
       "  <tbody>\n",
       "    <tr>\n",
       "      <th>325</th>\n",
       "      <td>3.785500</td>\n",
       "      <td>-5.068600</td>\n",
       "      <td>9.176100</td>\n",
       "      <td>3.621900</td>\n",
       "      <td>-6.037500</td>\n",
       "      <td>10.458000</td>\n",
       "      <td>11.604000</td>\n",
       "      <td>-11.671000</td>\n",
       "      <td>-1.782100</td>\n",
       "      <td>10.326000</td>\n",
       "      <td>...</td>\n",
       "      <td>59.208000</td>\n",
       "      <td>77.216000</td>\n",
       "      <td>81.770000</td>\n",
       "      <td>62.334000</td>\n",
       "      <td>65.850000</td>\n",
       "      <td>84.123000</td>\n",
       "      <td>82.457000</td>\n",
       "      <td>59.617000</td>\n",
       "      <td>62.381000</td>\n",
       "      <td>72.431000</td>\n",
       "    </tr>\n",
       "    <tr>\n",
       "      <th>2270</th>\n",
       "      <td>-2.823685</td>\n",
       "      <td>-1.767507</td>\n",
       "      <td>-2.088838</td>\n",
       "      <td>-2.332517</td>\n",
       "      <td>-1.066651</td>\n",
       "      <td>2.185699</td>\n",
       "      <td>2.019799</td>\n",
       "      <td>-5.196458</td>\n",
       "      <td>-3.351829</td>\n",
       "      <td>2.244061</td>\n",
       "      <td>...</td>\n",
       "      <td>15.679640</td>\n",
       "      <td>13.429346</td>\n",
       "      <td>13.254115</td>\n",
       "      <td>14.453883</td>\n",
       "      <td>14.136732</td>\n",
       "      <td>11.394564</td>\n",
       "      <td>12.815959</td>\n",
       "      <td>14.557035</td>\n",
       "      <td>15.888084</td>\n",
       "      <td>12.716704</td>\n",
       "    </tr>\n",
       "    <tr>\n",
       "      <th>1115</th>\n",
       "      <td>-14.916533</td>\n",
       "      <td>-7.133579</td>\n",
       "      <td>6.035699</td>\n",
       "      <td>14.062402</td>\n",
       "      <td>2.104360</td>\n",
       "      <td>4.648719</td>\n",
       "      <td>21.655094</td>\n",
       "      <td>6.658183</td>\n",
       "      <td>-1.760342</td>\n",
       "      <td>-7.786421</td>\n",
       "      <td>...</td>\n",
       "      <td>39.314087</td>\n",
       "      <td>42.586433</td>\n",
       "      <td>50.684658</td>\n",
       "      <td>68.441420</td>\n",
       "      <td>71.858860</td>\n",
       "      <td>72.415171</td>\n",
       "      <td>72.690563</td>\n",
       "      <td>55.035573</td>\n",
       "      <td>38.106940</td>\n",
       "      <td>54.595751</td>\n",
       "    </tr>\n",
       "    <tr>\n",
       "      <th>1864</th>\n",
       "      <td>-7.869200</td>\n",
       "      <td>-11.420000</td>\n",
       "      <td>-4.119900</td>\n",
       "      <td>6.934200</td>\n",
       "      <td>2.598500</td>\n",
       "      <td>-1.242100</td>\n",
       "      <td>-6.589800</td>\n",
       "      <td>5.918200</td>\n",
       "      <td>18.849000</td>\n",
       "      <td>1.527900</td>\n",
       "      <td>...</td>\n",
       "      <td>18.590000</td>\n",
       "      <td>30.547000</td>\n",
       "      <td>23.885000</td>\n",
       "      <td>28.621000</td>\n",
       "      <td>35.295000</td>\n",
       "      <td>38.146000</td>\n",
       "      <td>30.038000</td>\n",
       "      <td>20.989000</td>\n",
       "      <td>20.221000</td>\n",
       "      <td>24.908000</td>\n",
       "    </tr>\n",
       "    <tr>\n",
       "      <th>2784</th>\n",
       "      <td>15.239095</td>\n",
       "      <td>28.304796</td>\n",
       "      <td>11.187012</td>\n",
       "      <td>-31.592014</td>\n",
       "      <td>-19.671278</td>\n",
       "      <td>14.730414</td>\n",
       "      <td>9.204807</td>\n",
       "      <td>-0.279894</td>\n",
       "      <td>5.256727</td>\n",
       "      <td>11.502930</td>\n",
       "      <td>...</td>\n",
       "      <td>74.313287</td>\n",
       "      <td>71.695204</td>\n",
       "      <td>67.325792</td>\n",
       "      <td>74.709337</td>\n",
       "      <td>89.641303</td>\n",
       "      <td>92.837155</td>\n",
       "      <td>91.085124</td>\n",
       "      <td>95.166413</td>\n",
       "      <td>86.711335</td>\n",
       "      <td>103.008423</td>\n",
       "    </tr>\n",
       "  </tbody>\n",
       "</table>\n",
       "<p>5 rows × 1089 columns</p>\n",
       "</div>"
      ],
      "text/plain": [
       "          attr0      attr1      attr2      attr3      attr4      attr5  \\\n",
       "325    3.785500  -5.068600   9.176100   3.621900  -6.037500  10.458000   \n",
       "2270  -2.823685  -1.767507  -2.088838  -2.332517  -1.066651   2.185699   \n",
       "1115 -14.916533  -7.133579   6.035699  14.062402   2.104360   4.648719   \n",
       "1864  -7.869200 -11.420000  -4.119900   6.934200   2.598500  -1.242100   \n",
       "2784  15.239095  28.304796  11.187012 -31.592014 -19.671278  14.730414   \n",
       "\n",
       "          attr6      attr7      attr8      attr9  ...   attr1079   attr1080  \\\n",
       "325   11.604000 -11.671000  -1.782100  10.326000  ...  59.208000  77.216000   \n",
       "2270   2.019799  -5.196458  -3.351829   2.244061  ...  15.679640  13.429346   \n",
       "1115  21.655094   6.658183  -1.760342  -7.786421  ...  39.314087  42.586433   \n",
       "1864  -6.589800   5.918200  18.849000   1.527900  ...  18.590000  30.547000   \n",
       "2784   9.204807  -0.279894   5.256727  11.502930  ...  74.313287  71.695204   \n",
       "\n",
       "       attr1081   attr1082   attr1083   attr1084   attr1085   attr1086  \\\n",
       "325   81.770000  62.334000  65.850000  84.123000  82.457000  59.617000   \n",
       "2270  13.254115  14.453883  14.136732  11.394564  12.815959  14.557035   \n",
       "1115  50.684658  68.441420  71.858860  72.415171  72.690563  55.035573   \n",
       "1864  23.885000  28.621000  35.295000  38.146000  30.038000  20.989000   \n",
       "2784  67.325792  74.709337  89.641303  92.837155  91.085124  95.166413   \n",
       "\n",
       "       attr1087    attr1088  \n",
       "325   62.381000   72.431000  \n",
       "2270  15.888084   12.716704  \n",
       "1115  38.106940   54.595751  \n",
       "1864  20.221000   24.908000  \n",
       "2784  86.711335  103.008423  \n",
       "\n",
       "[5 rows x 1089 columns]"
      ]
     },
     "execution_count": 92,
     "metadata": {},
     "output_type": "execute_result"
    }
   ],
   "source": [
    "X_train.head()"
   ]
  },
  {
   "cell_type": "markdown",
   "metadata": {},
   "source": [
    "### Visualize the data\n",
    "\n",
    "- Check the distribution of the target variable. Is the data imbalanced?\n",
    "- Clean the data, apply some data preprocessing and engineering techniques."
   ]
  },
  {
   "cell_type": "code",
   "execution_count": 93,
   "metadata": {},
   "outputs": [
    {
     "data": {
      "text/plain": [
       "1    3080\n",
       "0    2812\n",
       "Name: attr1089, dtype: int64"
      ]
     },
     "execution_count": 93,
     "metadata": {},
     "output_type": "execute_result"
    }
   ],
   "source": [
    "# Code starts here\n",
    "y.value_counts()\n",
    "# Code ends here."
   ]
  },
  {
   "cell_type": "code",
   "execution_count": 94,
   "metadata": {},
   "outputs": [],
   "source": [
    "scaler=MinMaxScaler()\n",
    "scaler.fit(X_train)\n",
    "X_train=scaler.transform(X_train)\n",
    "X_test=scaler.transform(X_test)"
   ]
  },
  {
   "cell_type": "markdown",
   "metadata": {},
   "source": [
    "### Model building\n",
    "\n",
    "- Split the data into train and test.\n",
    "- Now let's come to the actual task, predict the values of `attr1089` after building a Machine learning model.\n",
    "- Try improving upon the `roc_auc_score` ([ROC-AUC Score](https://scikit-learn.org/stable/modules/generated/sklearn.metrics.roc_auc_score.html#sklearn.metrics.roc_auc_score))"
   ]
  },
  {
   "cell_type": "code",
   "execution_count": 95,
   "metadata": {},
   "outputs": [
    {
     "data": {
      "text/plain": [
       "0.8277507281519034"
      ]
     },
     "execution_count": 95,
     "metadata": {},
     "output_type": "execute_result"
    }
   ],
   "source": [
    "# Code Starts here\n",
    "\n",
    "y_pred=LogisticRegression().fit(X_train,y_train).predict(X_test)\n",
    "score=roc_auc_score(y_pred,y_test)\n",
    "score\n",
    "# Code ends here"
   ]
  },
  {
   "cell_type": "code",
   "execution_count": 96,
   "metadata": {},
   "outputs": [
    {
     "data": {
      "text/plain": [
       "0.8786567031104024"
      ]
     },
     "execution_count": 96,
     "metadata": {},
     "output_type": "execute_result"
    }
   ],
   "source": [
    "\n",
    "y_pred_1=DecisionTreeClassifier(random_state=0).fit(X_train,y_train).predict(X_test)\n",
    "score_1=roc_auc_score(y_pred_1,y_test)\n",
    "score_1"
   ]
  },
  {
   "cell_type": "code",
   "execution_count": 97,
   "metadata": {},
   "outputs": [
    {
     "data": {
      "text/plain": [
       "0.9228259688940152"
      ]
     },
     "execution_count": 97,
     "metadata": {},
     "output_type": "execute_result"
    }
   ],
   "source": [
    "random=RandomForestClassifier(random_state=0)\n",
    "random.fit(X_train,y_train)\n",
    "y_pred_2=random.predict(X_test)\n",
    "score_2=roc_auc_score(y_pred_2,y_test)\n",
    "score_2"
   ]
  },
  {
   "cell_type": "code",
   "execution_count": 98,
   "metadata": {},
   "outputs": [
    {
     "data": {
      "text/plain": [
       "0.8368635588247865"
      ]
     },
     "execution_count": 98,
     "metadata": {},
     "output_type": "execute_result"
    }
   ],
   "source": [
    "y_pred_3=BaggingClassifier(base_estimator=DecisionTreeClassifier(),n_estimators=100,max_samples=100,random_state=0).fit(X_train,y_train).predict(X_test)\n",
    "score_3=roc_auc_score(y_pred_3,y_test)\n",
    "score_3"
   ]
  },
  {
   "cell_type": "code",
   "execution_count": 99,
   "metadata": {},
   "outputs": [
    {
     "data": {
      "text/plain": [
       "0.900479625627711"
      ]
     },
     "execution_count": 99,
     "metadata": {},
     "output_type": "execute_result"
    }
   ],
   "source": [
    "C_1=LogisticRegression()\n",
    "C_2=DecisionTreeClassifier(random_state=0)\n",
    "C_3=RandomForestClassifier(random_state=0)\n",
    "model_list=[('logistic',C_1),('Decision',C_2),('Random',C_3)]\n",
    "\n",
    "\n",
    "y_pred_4=VotingClassifier(estimators=model_list,voting='soft').fit(X_train,y_train).predict(X_test)\n",
    "score_4=roc_auc_score(y_pred_4,y_test)\n",
    "score_4"
   ]
  },
  {
   "cell_type": "markdown",
   "metadata": {},
   "source": [
    "### Prediction on the test data and creating the sample submission file.\n",
    "\n",
    "- Load the test data and store the `Id` column in a separate variable.\n",
    "- Perform the same operations on the test data that you have performed on the train data.\n",
    "- Create the submission file as a `csv` file consisting of the `Id` column from the test data and your prediction as the second column."
   ]
  },
  {
   "cell_type": "code",
   "execution_count": 100,
   "metadata": {},
   "outputs": [
    {
     "data": {
      "text/plain": [
       "array([0, 0, 1, ..., 1, 0, 0], dtype=int64)"
      ]
     },
     "execution_count": 100,
     "metadata": {},
     "output_type": "execute_result"
    }
   ],
   "source": [
    "# Code Starts here\n",
    "test=pd.read_csv('test.csv')\n",
    "id=test['Id']\n",
    "test=test.drop(['Id','Unnamed: 0'],axis=1)\n",
    "scaler=MinMaxScaler()\n",
    "scaler.fit(test)\n",
    "test=scaler.transform(test)\n",
    "y_pred=random.predict(test)\n",
    "y_pred\n",
    "\n",
    "\n",
    "# Code ends here"
   ]
  },
  {
   "cell_type": "code",
   "execution_count": 101,
   "metadata": {},
   "outputs": [],
   "source": [
    "sample_submission=pd.DataFrame({'Id':id,'attr1089':y_pred})\n",
    "sample_submission.to_csv('Submission.csv',index=False)"
   ]
  },
  {
   "cell_type": "code",
   "execution_count": null,
   "metadata": {},
   "outputs": [],
   "source": []
  }
 ],
 "metadata": {
  "kernelspec": {
   "display_name": "Python 3",
   "language": "python",
   "name": "python3"
  },
  "language_info": {
   "codemirror_mode": {
    "name": "ipython",
    "version": 3
   },
   "file_extension": ".py",
   "mimetype": "text/x-python",
   "name": "python",
   "nbconvert_exporter": "python",
   "pygments_lexer": "ipython3",
   "version": "3.8.3"
  }
 },
 "nbformat": 4,
 "nbformat_minor": 4
}
